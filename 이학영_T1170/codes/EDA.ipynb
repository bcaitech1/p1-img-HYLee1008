{
 "cells": [
  {
   "cell_type": "code",
   "execution_count": 1,
   "id": "transsexual-citizen",
   "metadata": {},
   "outputs": [],
   "source": [
    "import os\n",
    "import pandas as pd\n",
    "from PIL import Image"
   ]
  },
  {
   "cell_type": "markdown",
   "id": "rough-monte",
   "metadata": {},
   "source": [
    "## Dataset Path"
   ]
  },
  {
   "cell_type": "code",
   "execution_count": 2,
   "id": "pretty-locking",
   "metadata": {},
   "outputs": [],
   "source": [
    "train_dir = '/opt/ml/input/data/train'\n",
    "test_dir = '/opt/ml/input/data/eval'"
   ]
  },
  {
   "cell_type": "markdown",
   "id": "average-eagle",
   "metadata": {},
   "source": [
    "## CSV Files"
   ]
  },
  {
   "cell_type": "code",
   "execution_count": 3,
   "id": "lovely-cooler",
   "metadata": {},
   "outputs": [],
   "source": [
    "# csv files\n",
    "train_csv = pd.read_csv(os.path.join(train_dir, 'train.csv'))\n",
    "test_csv = pd.read_csv(os.path.join(test_dir, 'info.csv'))"
   ]
  },
  {
   "cell_type": "markdown",
   "id": "several-handle",
   "metadata": {},
   "source": [
    "## Dataset Head"
   ]
  },
  {
   "cell_type": "code",
   "execution_count": 4,
   "id": "younger-interview",
   "metadata": {},
   "outputs": [
    {
     "data": {
      "text/html": [
       "<div>\n",
       "<style scoped>\n",
       "    .dataframe tbody tr th:only-of-type {\n",
       "        vertical-align: middle;\n",
       "    }\n",
       "\n",
       "    .dataframe tbody tr th {\n",
       "        vertical-align: top;\n",
       "    }\n",
       "\n",
       "    .dataframe thead th {\n",
       "        text-align: right;\n",
       "    }\n",
       "</style>\n",
       "<table border=\"1\" class=\"dataframe\">\n",
       "  <thead>\n",
       "    <tr style=\"text-align: right;\">\n",
       "      <th></th>\n",
       "      <th>id</th>\n",
       "      <th>gender</th>\n",
       "      <th>race</th>\n",
       "      <th>age</th>\n",
       "      <th>path</th>\n",
       "    </tr>\n",
       "  </thead>\n",
       "  <tbody>\n",
       "    <tr>\n",
       "      <th>0</th>\n",
       "      <td>000001</td>\n",
       "      <td>female</td>\n",
       "      <td>Asian</td>\n",
       "      <td>45</td>\n",
       "      <td>000001_female_Asian_45</td>\n",
       "    </tr>\n",
       "    <tr>\n",
       "      <th>1</th>\n",
       "      <td>000002</td>\n",
       "      <td>female</td>\n",
       "      <td>Asian</td>\n",
       "      <td>52</td>\n",
       "      <td>000002_female_Asian_52</td>\n",
       "    </tr>\n",
       "    <tr>\n",
       "      <th>2</th>\n",
       "      <td>000004</td>\n",
       "      <td>male</td>\n",
       "      <td>Asian</td>\n",
       "      <td>54</td>\n",
       "      <td>000004_male_Asian_54</td>\n",
       "    </tr>\n",
       "    <tr>\n",
       "      <th>3</th>\n",
       "      <td>000005</td>\n",
       "      <td>female</td>\n",
       "      <td>Asian</td>\n",
       "      <td>58</td>\n",
       "      <td>000005_female_Asian_58</td>\n",
       "    </tr>\n",
       "    <tr>\n",
       "      <th>4</th>\n",
       "      <td>000006</td>\n",
       "      <td>female</td>\n",
       "      <td>Asian</td>\n",
       "      <td>59</td>\n",
       "      <td>000006_female_Asian_59</td>\n",
       "    </tr>\n",
       "  </tbody>\n",
       "</table>\n",
       "</div>"
      ],
      "text/plain": [
       "       id  gender   race  age                    path\n",
       "0  000001  female  Asian   45  000001_female_Asian_45\n",
       "1  000002  female  Asian   52  000002_female_Asian_52\n",
       "2  000004    male  Asian   54    000004_male_Asian_54\n",
       "3  000005  female  Asian   58  000005_female_Asian_58\n",
       "4  000006  female  Asian   59  000006_female_Asian_59"
      ]
     },
     "execution_count": 4,
     "metadata": {},
     "output_type": "execute_result"
    }
   ],
   "source": [
    "train_csv.head()"
   ]
  },
  {
   "cell_type": "code",
   "execution_count": 5,
   "id": "growing-worry",
   "metadata": {},
   "outputs": [
    {
     "data": {
      "text/html": [
       "<div>\n",
       "<style scoped>\n",
       "    .dataframe tbody tr th:only-of-type {\n",
       "        vertical-align: middle;\n",
       "    }\n",
       "\n",
       "    .dataframe tbody tr th {\n",
       "        vertical-align: top;\n",
       "    }\n",
       "\n",
       "    .dataframe thead th {\n",
       "        text-align: right;\n",
       "    }\n",
       "</style>\n",
       "<table border=\"1\" class=\"dataframe\">\n",
       "  <thead>\n",
       "    <tr style=\"text-align: right;\">\n",
       "      <th></th>\n",
       "      <th>ImageID</th>\n",
       "      <th>ans</th>\n",
       "    </tr>\n",
       "  </thead>\n",
       "  <tbody>\n",
       "    <tr>\n",
       "      <th>0</th>\n",
       "      <td>cbc5c6e168e63498590db46022617123f1fe1268.jpg</td>\n",
       "      <td>0</td>\n",
       "    </tr>\n",
       "    <tr>\n",
       "      <th>1</th>\n",
       "      <td>0e72482bf56b3581c081f7da2a6180b8792c7089.jpg</td>\n",
       "      <td>0</td>\n",
       "    </tr>\n",
       "    <tr>\n",
       "      <th>2</th>\n",
       "      <td>b549040c49190cedc41327748aeb197c1670f14d.jpg</td>\n",
       "      <td>0</td>\n",
       "    </tr>\n",
       "    <tr>\n",
       "      <th>3</th>\n",
       "      <td>4f9cb2a045c6d5b9e50ad3459ea7b791eb6e18bc.jpg</td>\n",
       "      <td>0</td>\n",
       "    </tr>\n",
       "    <tr>\n",
       "      <th>4</th>\n",
       "      <td>248428d9a4a5b6229a7081c32851b90cb8d38d0c.jpg</td>\n",
       "      <td>0</td>\n",
       "    </tr>\n",
       "  </tbody>\n",
       "</table>\n",
       "</div>"
      ],
      "text/plain": [
       "                                        ImageID  ans\n",
       "0  cbc5c6e168e63498590db46022617123f1fe1268.jpg    0\n",
       "1  0e72482bf56b3581c081f7da2a6180b8792c7089.jpg    0\n",
       "2  b549040c49190cedc41327748aeb197c1670f14d.jpg    0\n",
       "3  4f9cb2a045c6d5b9e50ad3459ea7b791eb6e18bc.jpg    0\n",
       "4  248428d9a4a5b6229a7081c32851b90cb8d38d0c.jpg    0"
      ]
     },
     "execution_count": 5,
     "metadata": {},
     "output_type": "execute_result"
    }
   ],
   "source": [
    "test_csv.head()"
   ]
  },
  {
   "cell_type": "markdown",
   "id": "alternative-right",
   "metadata": {},
   "source": [
    "## Dataset Size & Unique Values"
   ]
  },
  {
   "cell_type": "code",
   "execution_count": 6,
   "id": "printable-aggregate",
   "metadata": {},
   "outputs": [
    {
     "name": "stdout",
     "output_type": "stream",
     "text": [
      "Train dataset size : (2700, 5)\n",
      "Test dataset size : (12600, 2)\n"
     ]
    }
   ],
   "source": [
    "print(f'Train dataset size : {train_csv.shape}')\n",
    "print(f'Test dataset size : {test_csv.shape}')"
   ]
  },
  {
   "cell_type": "code",
   "execution_count": 7,
   "id": "eligible-nigeria",
   "metadata": {},
   "outputs": [
    {
     "name": "stdout",
     "output_type": "stream",
     "text": [
      "id:2699\n",
      "gender:2\n",
      "race:1\n",
      "age:43\n",
      "path:2700\n"
     ]
    }
   ],
   "source": [
    "for col in train_csv.columns:\n",
    "    print(col + \":\" +str(len(train_csv[col].unique())))"
   ]
  },
  {
   "cell_type": "markdown",
   "id": "interested-gibson",
   "metadata": {},
   "source": [
    "## Distribution of each attribute"
   ]
  },
  {
   "cell_type": "code",
   "execution_count": 8,
   "id": "presidential-palace",
   "metadata": {},
   "outputs": [],
   "source": [
    "# counter\n",
    "num_female = len(train_csv[train_csv['gender'] == 'female'])\n",
    "num_male = len(train_csv[train_csv['gender'] == 'male'])\n",
    "\n",
    "age_30 = len(train_csv[train_csv['age'] < 30])\n",
    "age_60 = len(train_csv[train_csv['age'] >= 60])\n",
    "age_30_60 = len(train_csv.loc[(train_csv['age'] >= 30) & (train_csv['age'] < 60)])"
   ]
  },
  {
   "cell_type": "code",
   "execution_count": 9,
   "id": "scheduled-memphis",
   "metadata": {},
   "outputs": [
    {
     "data": {
      "image/png": "[encoded data removed]",
      "text/plain": [
       "<Figure size 432x288 with 2 Axes>"
      ]
     },
     "metadata": {
      "needs_background": "light"
     },
     "output_type": "display_data"
    }
   ],
   "source": [
    "import matplotlib.pyplot as plt\n",
    "\n",
    "fig = plt.figure()\n",
    "ax1 = fig.add_subplot(1, 2, 1)\n",
    "ax2 = fig.add_subplot(1, 2, 2)\n",
    "\n",
    "ax1.set_title('Gender Distribution')\n",
    "ax1.bar(['female', 'male'], [num_female, num_male])\n",
    "ax2.set_title('Age Distribution')\n",
    "ax2.bar(['30', '30_60', '60'], [age_30, age_30_60, age_60])\n",
    "plt.show()"
   ]
  },
  {
   "cell_type": "code",
   "execution_count": 10,
   "id": "compatible-excess",
   "metadata": {},
   "outputs": [
    {
     "data": {
      "image/png": "[encoded data removed]",
      "text/plain": [
       "<Figure size 432x288 with 1 Axes>"
      ]
     },
     "metadata": {
      "needs_background": "light"
     },
     "output_type": "display_data"
    }
   ],
   "source": [
    "age_condition = [train_csv['age'] < 30, (train_csv['age'] >= 30) & (train_csv['age'] < 60), train_csv['age'] >= 60]\n",
    "gender_condition = [train_csv['gender'] == 'male', train_csv['gender'] == 'female']\n",
    "label_count = []\n",
    "\n",
    "for i in range(6):\n",
    "    g, a = divmod(i, 3)\n",
    "    label_count.append(len(train_csv.loc[age_condition[a] & gender_condition[g]]))\n",
    "\n",
    "label_count = [5 * c for c in label_count] + label_count + label_count\n",
    "\n",
    "fig = plt.figure()\n",
    "plt.title('Label distribution of training image')\n",
    "plt.bar(list(range(18)), label_count)\n",
    "for i in range(18):\n",
    "    plt.text(i - 0.5, label_count[i] + 30, str(label_count[i]))\n",
    "plt.xticks(list(range(18)))\n",
    "plt.show()"
   ]
  },
  {
   "cell_type": "markdown",
   "id": "assured-aquarium",
   "metadata": {},
   "source": [
    "## Checking my dataset"
   ]
  },
  {
   "cell_type": "code",
   "execution_count": 11,
   "id": "level-perfume",
   "metadata": {},
   "outputs": [],
   "source": [
    "from torch.utils.data import Dataset, DataLoader\n",
    "\n",
    "class TrainDataset(Dataset):\n",
    "    def __init__(self, img_paths, csv, transform):\n",
    "        self.img_paths = img_paths\n",
    "        self.csv = csv\n",
    "        self.transform = transform\n",
    "\n",
    "    def __getitem__(self, index):\n",
    "        # get persion id and mask info\n",
    "        pid, mask_id = divmod(index, 7)\n",
    "        \n",
    "        # get image\n",
    "        mask_images = [d for d in os.listdir(self.img_paths[pid]) if not d.startswith('._')]\n",
    "        image = Image.open(os.path.join(self.img_paths[pid], mask_images[mask_id]))\n",
    "\n",
    "        if self.transform:\n",
    "            image = self.transform(image)\n",
    "            \n",
    "        #get label info\n",
    "        gender = 0 if self.csv.gender[pid] == 'male' else 1\n",
    "        age = 0 if self.csv.age[pid] < 30 else 1 if 30 <= self.csv.age[pid] < 60 else 2\n",
    "        mask = 1 if 'incorrect' in mask_images[mask_id] else 2 if 'normal' in mask_images[mask_id] else 0\n",
    "        \n",
    "        label = 6 * mask + 3 * gender + age\n",
    "        \n",
    "        return label\n",
    "        \n",
    "\n",
    "    def __len__(self):\n",
    "        return len(self.img_paths) * 7"
   ]
  },
  {
   "cell_type": "code",
   "execution_count": 12,
   "id": "handed-latino",
   "metadata": {},
   "outputs": [],
   "source": [
    "# dataset path\n",
    "train_dir = '/opt/ml/input/data/train'\n",
    "test_dir = '/opt/ml/input/data/eval'\n",
    "\n",
    "# csv files\n",
    "train_csv = pd.read_csv(os.path.join(train_dir, 'train.csv'))\n",
    "test_csv = pd.read_csv(os.path.join(test_dir, 'info.csv'))\n",
    "\n",
    "# image directories\n",
    "train_image_dir = os.path.join(train_dir, 'images')\n",
    "test_image_dir = os.path.join(test_dir, 'images')\n",
    "\n",
    "train_image_paths = [os.path.join(train_image_dir, img_id) for img_id in train_csv.path]\n",
    "test_image_paths = [os.path.join(test_image_dir, img_id) for img_id in test_csv.ImageID]\n",
    "\n",
    "train_dataset = TrainDataset(train_image_paths, train_csv, False)\n",
    "\n",
    "loader = DataLoader(\n",
    "    train_dataset,\n",
    "    shuffle=False\n",
    ")"
   ]
  },
  {
   "cell_type": "code",
   "execution_count": 13,
   "id": "continuous-edinburgh",
   "metadata": {},
   "outputs": [
    {
     "data": {
      "image/png": "[encoded data removed]",
      "text/plain": [
       "<Figure size 432x288 with 1 Axes>"
      ]
     },
     "metadata": {
      "needs_background": "light"
     },
     "output_type": "display_data"
    }
   ],
   "source": [
    "count = [0] * 18\n",
    "for label in loader:\n",
    "    count[label] += 1\n",
    "\n",
    "fig = plt.figure()\n",
    "plt.title('Label distribution of training image')\n",
    "plt.bar(list(range(18)), count)\n",
    "for i in range(18):\n",
    "    plt.text(i - 0.5, count[i] + 30, str(count[i]))\n",
    "plt.xticks(list(range(18)))\n",
    "plt.show()\n",
    "    "
   ]
  },
  {
   "cell_type": "code",
   "execution_count": null,
   "id": "psychological-trail",
   "metadata": {},
   "outputs": [],
   "source": []
  }
 ],
 "metadata": {
  "kernelspec": {
   "display_name": "Python 3",
   "language": "python",
   "name": "python3"
  },
  "language_info": {
   "codemirror_mode": {
    "name": "ipython",
    "version": 3
   },
   "file_extension": ".py",
   "mimetype": "text/x-python",
   "name": "python",
   "nbconvert_exporter": "python",
   "pygments_lexer": "ipython3",
   "version": "3.7.7"
  }
 },
 "nbformat": 4,
 "nbformat_minor": 5
}
